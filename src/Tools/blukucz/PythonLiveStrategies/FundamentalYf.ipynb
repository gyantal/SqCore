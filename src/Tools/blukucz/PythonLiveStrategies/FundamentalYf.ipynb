{
 "cells": [
  {
   "cell_type": "code",
   "execution_count": null,
   "metadata": {},
   "outputs": [],
   "source": [
    "import yfinance as yf\n",
    "import csv\n",
    "\n",
    "# List of tickers\n",
    "#tickers = [\"AAL\",\"AAOI\",\"AAPL\",\"ABAT\",\"ABBV\",\"ACAD\",\"ACLS\",\"ACRE\",\"ADBE\",\"ADN\",\"ADP\",\"AEHR\",\"AGNC\",\"AI\",\"AKYA\",\"ALGN\",\"ALLG\",\"ALLY\",\"ALT\",\"ALX\",\"AMAT\",\"AMC\",\"AMD\",\"AMGDF\",\"AMRN\",\"AMSWA\",\"AMT\",\"AMWL\",\"ANET\",\"ANF\",\"API\",\"APPN\",\"APPS\",\"ARM\",\"ARQ\",\"ARR\",\"ARVLF\",\"ARWR\",\"ASC\",\"ATER\",\"ATXS\",\"AUPH\",\"AVB\",\"AVXL\",\"BA\",\"BABA\",\"BAND\",\"BBY\",\"BCOV\",\"BCRX\",\"BE\",\"BEAM\",\"BHC\",\"BHP\",\"BHR\",\"BHVN\",\"BIGC\",\"BKNG\",\"BL\",\"BLDR\",\"BLKB\",\"BLND\",\"BLUE\",\"BLZE\",\"BNED\",\"BRK-B\",\"BTDPF\",\"BTG\",\"BTI\",\"BTM\",\"BUD\",\"BW\",\"BYLOF\",\"BYND\",\"BYON\",\"BYRN\",\"C\",\"CALX\",\"CANOQ\",\"CART\",\"CAVA\",\"CCJ\",\"CCRD\",\"CDZI\",\"CE\",\"CFG\",\"CGC\",\"CHK\",\"CHPT\",\"CHWY\",\"CLF\",\"CLPR\",\"CLX\",\"CMG\",\"CMPS\",\"CNDT\",\"COF\",\"COIN\",\"CRK\",\"CRSR\",\"CRT\",\"CRWD\",\"CSIQ\",\"CSLR\",\"CVAC\",\"CVE\",\"CVNA\",\"CVS\",\"CYBR\",\"DAL\",\"DASH\",\"DAVA\",\"DBX\",\"DE\",\"DECK\",\"DELL\",\"DFH\",\"DFS\",\"DG\",\"DHC\",\"DIBS\",\"DIT\",\"DJT\",\"DKNG\",\"DLTH\",\"DM\",\"DNA\",\"DNMR\",\"DOMO\",\"DSX\",\"DUK\",\"DUOL\",\"DXCM\",\"EGIO\",\"ELV\",\"ENPH\",\"ENVX\",\"EOSE\",\"EPR\",\"ESLT\",\"ETSY\",\"EURN\",\"EWTX\",\"EXEL\",\"EXPRQ\",\"EYPT\",\"F\",\"FAT\",\"FCEL\",\"FCPT\",\"FCX\",\"FDX\",\"FFIE\",\"FITB\",\"FL\",\"FNKO\",\"FOX\",\"FREY\",\"FRO\",\"FSK\",\"FSP\",\"FSRNQ\",\"FTCO\",\"FTEL\",\"FUBO\",\"FVRR\",\"GCT\",\"GDRX\",\"GFS\",\"GGR\",\"GIS\",\"GLASF\",\"GM\",\"GME\",\"GNL\",\"GOEV\",\"GOOGL\",\"GOOS\",\"GPI\",\"GPRO\",\"GRIN\",\"GRPN\",\"GT\",\"GTII\",\"GTY\",\"HCAT\",\"HD\",\"HGTXU\",\"HIVE\",\"HLMAF\",\"HPP\",\"HPQ\",\"HRMY\",\"HSY\",\"HTZ\",\"HUBS\",\"HUM\",\"HYLN\",\"HYZN\",\"IMO\",\"IMPP\",\"INTC\",\"INTU\",\"INVE\",\"IRBT\",\"ISRG\",\"ITW\",\"JAMF\",\"JBGS\",\"JBLU\",\"JNJ\",\"JOUT\",\"JSAIY\",\"KHC\",\"KMX\",\"KOPN\",\"KR\",\"KSCP\",\"KVUE\",\"KVYO\",\"LAW\",\"LAZR\",\"LCID\",\"LE\",\"LECO\",\"LEN\",\"LESL\",\"LEV\",\"LFST\",\"LGIH\",\"LHX\",\"LLAP\",\"LLY\",\"LOGC\",\"LOW\",\"LSPD\",\"LUMN\",\"LUV\",\"LWLG\",\"M\",\"MAKSY\",\"MAMA\",\"MARA\",\"MBLY\",\"MCD\",\"MDB\",\"MGRM\",\"MHO\",\"MKC\",\"MMM\",\"MNDY\",\"MO\",\"MPC\",\"MPW\",\"MRCC\",\"MRNA\",\"MRVI\",\"MSTR\",\"MTC\",\"MTCH\",\"MU\",\"MULN\",\"MYTE\",\"NAT\",\"NDLS\",\"NEE\",\"NEP\",\"NFLX\",\"NGL\",\"NHTC\",\"NIO\",\"NKE\",\"NKLA\",\"NLCP\",\"NLST\",\"NLY\",\"NOW\",\"NRDE\",\"NSA\",\"NVAX\",\"NVDA\",\"NVTAQ\",\"NWL\",\"NYT\",\"OB\",\"OCDGF\",\"OLP\",\"OM\",\"ONTO\",\"ORC\",\"ORIC\",\"OTTR\",\"OZK\",\"PANW\",\"PBT\",\"PCAR\",\"PEB\",\"PEP\",\"PERI\",\"PFMT\",\"PG\",\"PGRE\",\"PIII\",\"PK\",\"PKST\",\"PLTR\",\"PLUG\",\"PPSI\",\"PRLB\",\"PSA\",\"PSNY\",\"PSQH\",\"PSX\",\"PTON\",\"PXLW\",\"QCOM\",\"QLYS\",\"QRTEA\",\"RADCQ\",\"RBLX\",\"RCL\",\"RDDT\",\"RDFN\",\"RELX\",\"RGEN\",\"RILY\",\"RIO\",\"RIOT\",\"RIVN\",\"RKT\",\"RMTI\",\"ROK\",\"RUM\",\"RUN\",\"RVNC\",\"SANA\",\"SAP\",\"SATL\",\"SAVE\",\"SBR\",\"SBUX\",\"SCBFF\",\"SCCO\",\"SCWX\",\"SEDG\",\"SFIX\",\"SHOP\",\"SHW\",\"SIFY\",\"SJT\",\"SLRC\",\"SMCI\",\"SMID\",\"SMR\",\"SMXT\",\"SNAP\",\"SNOW\",\"SNPS\",\"SOFI\",\"SOUN\",\"SPCE\",\"SPG\",\"SPHR\",\"SPR\",\"SPT\",\"SQ\",\"SQM\",\"SSD\",\"SSNC\",\"STBX\",\"STIXF\",\"STR\",\"STRL\",\"STX\",\"SVC\",\"SWKS\",\"T\",\"TDOC\",\"TEAM\",\"TELL\",\"TFC\",\"TGLS\",\"TGT\",\"TGTX\",\"TIXT\",\"TLRY\",\"TLS\",\"TM\",\"TMDX\",\"TORO\",\"TPC\",\"TPL\",\"TREX\",\"TRML\",\"TROW\",\"TRRVF\",\"TSHA\",\"TSLA\",\"TSN\",\"TUP\",\"TWKS\",\"TWLO\",\"TWOU\",\"TXG\",\"TXRH\",\"UAL\",\"UL\",\"UONEK\",\"UP\",\"UPLD\",\"UPS\",\"UPWK\",\"URG\",\"URI\",\"USB\",\"UTHR\",\"UTZ\",\"UUUU\",\"VALE\",\"VEEV\",\"VERI\",\"VFS\",\"VICR\",\"VIRC\",\"VLVCY\",\"VOXX\",\"W\",\"WBA\",\"WBD\",\"WDAY\",\"WEST\",\"WHR\",\"WING\",\"WKHS\",\"WLK\",\"WMT\",\"WOLF\",\"WST\",\"WW\",\"X\",\"XPEV\",\"YELLQ\",\"YETI\",\"YEXT\",\"ZI\",\"ZIM\",\"ZIP\",\"ZM\",\"ZNTL\"]\n",
    "#tickers = [\"AAPL\",\"ACLS\",\"ACN\",\"AGX\",\"ALL\",\"AMAT\",\"AMC\",\"AMD\",\"AMPH\",\"AMZN\",\"ANET\",\"ANF\",\"APP\",\"ARM\",\"ATGE\",\"AVGO\",\"AXP\",\"BIL\",\"BKR\",\"BLBD\",\"BLDR\",\"BRK-B\",\"BTC\",\"CAAP\",\"CCL\",\"CDNS\",\"CLF\",\"CLS\",\"CMCSA\",\"CRH\",\"CRM\",\"CRMD\",\"CRWD\",\"DELL\",\"DFS\",\"DNA\",\"DOLE\",\"EA\",\"EAT\",\"EB\",\"EEM\",\"EMB\",\"ENPH\",\"ENVX\",\"EPAM\",\"EPP\",\"ETH\",\"ETHE\",\"FSLY\",\"GBTC\",\"GD\",\"GDRX\",\"GEHC\",\"GLD\",\"GM\",\"GOOGL\",\"GPRO\",\"GRBK\",\"HMY\",\"HON\",\"HUM\",\"HYG\",\"IAG\",\"IBKR\",\"IEF\",\"INGR\",\"INTA\",\"INTC\",\"INTU\",\"KEX\",\"LAZR\",\"LC\",\"LCID\",\"LHX\",\"LQD\",\"LVS\",\"MAXN\",\"MCD\",\"MDGL\",\"MDY\",\"MELI\",\"META\",\"MFC\",\"MHO\",\"MIRM\",\"MO\",\"MOD\",\"MSFT\",\"MTCH\",\"NKLA\",\"NOW\",\"NVDA\",\"OKTA\",\"PANW\",\"PEP\",\"PGR\",\"PLTR\",\"PM\",\"POWL\",\"PPC\",\"PRCT\",\"PSIX\",\"PYCR\",\"PYPL\",\"QTWO\",\"RCL\",\"RGA\",\"RGP\",\"RNA\",\"RSI\",\"RTX\",\"SCHYY\",\"SEDG\",\"SFM\",\"SHOP\",\"SHY\",\"SKYW\",\"SLVM\",\"SMCI\",\"SMH\",\"SQ\",\"STRL\",\"SVIX\",\"SYF\",\"TCOM\",\"TEX\",\"TIP\",\"TLT\",\"TMF\",\"TMUS\",\"TMV\",\"TQQQ\",\"TSLA\",\"TSLL\",\"TSM\",\"TTD\",\"TWLO\",\"UAL\",\"UBER\",\"UGL\",\"UNG\",\"UPRO\",\"URI\",\"USO\",\"UWM\",\"VIST\",\"VKTX\",\"VNQ\",\"VWO\",\"VXX\",\"VXZ\",\"WFC\",\"WGS\",\"WYNN\",\"ZETA\",\"ZI\",\"ZIM\"]\n",
    "tickers = [\"AA\",\"AAL\",\"ACIW\",\"ACLS\",\"ADBE\",\"ADC\",\"AEM\",\"AEO\",\"AGIO\",\"AGRO\",\"AGX\",\"AIG\",\"AIR\",\"ALEX\",\"ALGM\",\"AMD\",\"AMKR\",\"AMN\",\"AMP\",\"AMPH\",\"AMR\",\"AMZN\",\"AN\",\"ANDE\",\"ANF\",\"ANIP\",\"AOSL\",\"APOG\",\"APP\",\"ARCC\",\"ARCH\",\"ARCO\",\"ARGT\",\"ARLO\",\"ARLP\",\"ASC\",\"ASRT\",\"ASX\",\"ATI\",\"ATKR\",\"AU\",\"AVGO\",\"AVT\",\"AXS\",\"BABA\",\"BAC\",\"BAESY\",\"BBDC\",\"BBSEY\",\"BBW\",\"BCRX\",\"BDN\",\"BDRBF\",\"BEKE\",\"BELFB\",\"BG\",\"BGFV\",\"BIDU\",\"BITW\",\"BKNG\",\"BKR\",\"BLBD\",\"BLDR\",\"BLFS\",\"BNL\",\"BNTX\",\"BOH\",\"BOX\",\"BP\",\"BRK-B\",\"BRX\",\"BSM\",\"BTE\",\"BTF\",\"BTI\",\"BTU\",\"BYND\",\"CAAP\",\"CAG\",\"CALM\",\"CALX\",\"CAR\",\"CAT\",\"CB\",\"CCL\",\"CCOI\",\"CCS\",\"CDRE\",\"CF\",\"CHPT\",\"CHRW\",\"CI\",\"CLOV\",\"CLS\",\"CMCSA\",\"COF\",\"COLB\",\"COLL\",\"COOP\",\"COP\",\"COPX\",\"COTY\",\"CPA\",\"CPRX\",\"CRCT\",\"CRDO\",\"CRM\",\"CRPT\",\"CRS\",\"CTO\",\"CTRE\",\"CUZ\",\"CVE\",\"CVNA\",\"CVX\",\"DAC\",\"DAL\",\"DBA\",\"DBX\",\"DDS\",\"DIS\",\"DKNG\",\"DLTR\",\"DOCU\",\"DOW\",\"DQ\",\"DRI\",\"DXLG\",\"DXPE\",\"EAT\",\"EBF\",\"EDU\",\"EGBN\",\"EGO\",\"EGY\",\"EIG\",\"EIX\",\"EMR\",\"ENGIY\",\"EPM\",\"EPR\",\"EPRT\",\"ESQ\",\"ETR\",\"EXEL\",\"EXPE\",\"EXR\",\"EXTR\",\"EYE\",\"EZPW\",\"F\",\"FAF\",\"FAT\",\"FCNCA\",\"FCX\",\"FE\",\"FL\",\"FN\",\"FNF\",\"FOR\",\"FRFHF\",\"FROG\",\"FSLR\",\"FSLY\",\"FSM\",\"FUJHY\",\"GAP\",\"GBCI\",\"GBTC\",\"GCT\",\"GDDY\",\"GDLC\",\"GDOT\",\"GGR\",\"GHM\",\"GM\",\"GNW\",\"GOGL\",\"GOOG\",\"GOOGL\",\"GRBK\",\"GSL\",\"GTY\",\"HAIN\",\"HBI\",\"HD\",\"HDSN\",\"HEINY\",\"HGBL\",\"HIMX\",\"HLIT\",\"HMY\",\"HOG\",\"HPQ\",\"HRB\",\"HRZN\",\"HSBC\",\"HTGC\",\"HY\",\"IAUM\",\"IDCC\",\"IGIC\",\"III\",\"IIPR\",\"IMMR\",\"INDB\",\"INGR\",\"INSW\",\"INVA\",\"IPI\",\"IPOOF\",\"ISNPY\",\"JAKK\",\"JBHT\",\"JBI\",\"JD\",\"JOB\",\"JXN\",\"KEX\",\"KGC\",\"KINS\",\"KMI\",\"KNX\",\"KO\",\"KOF\",\"KRP\",\"LCID\",\"LEN\",\"LHX\",\"LI\",\"LOB\",\"LOW\",\"LPG\",\"LSPD\",\"LUNMF\",\"LUV\",\"LVS\",\"LWAY\",\"LXU\",\"LYB\",\"LYFT\",\"LYG\",\"MAMA\",\"MCK\",\"META\",\"MGK\",\"MGM\",\"MHO\",\"MKL\",\"MNSO\",\"MOD\",\"MOS\",\"MPC\",\"MRK\",\"MTH\",\"MU\",\"MXL\",\"NCLH\",\"NECB\",\"NFG\",\"NFLX\",\"NGVC\",\"NHYDY\",\"NIO\",\"NJR\",\"NLCP\",\"NOC\",\"NOG\",\"NRG\",\"NTR\",\"NUE\",\"NWL\",\"OCUL\",\"OKE\",\"OKTA\",\"OLPX\",\"ON\",\"ONTO\",\"OPFI\",\"OPRA\",\"OSUR\",\"PAGS\",\"PANW\",\"PARR\",\"PATH\",\"PAYO\",\"PBR\",\"PCAR\",\"PCG\",\"PDD\",\"PEP\",\"PERI\",\"PETS\",\"PFGC\",\"PGR\",\"PGRE\",\"PINE\",\"PLAB\",\"PLMR\",\"POR\",\"POST\",\"POWL\",\"PPC\",\"PRDO\",\"PRIM\",\"PRNDY\",\"PRPH\",\"PRU\",\"PSX\",\"PTON\",\"PTSI\",\"PYPL\",\"QABSY\",\"QCOM\",\"QQQ\",\"QRHC\",\"QRVO\",\"RCL\",\"RDCM\",\"REG\",\"RES\",\"REVG\",\"RGA\",\"RIO\",\"RLJ\",\"RLX\",\"ROIV\",\"ROKU\",\"RPD\",\"RTX\",\"RYCEY\",\"S\",\"SABR\",\"SAM\",\"SANM\",\"SB\",\"SBLK\",\"SBSW\",\"SEI\",\"SFM\",\"SIG\",\"SILV\",\"SIVR\",\"SKYW\",\"SLF\",\"SLG\",\"SM\",\"SMAR\",\"SMCI\",\"SMTC\",\"SNAP\",\"SNEX\",\"SO\",\"SPCE\",\"SPOT\",\"SPXC\",\"SQ\",\"SQM\",\"STAG\",\"STNE\",\"STRL\",\"STX\",\"SU\",\"SUN\",\"SURG\",\"SXC\",\"SYF\",\"SYNA\",\"TCOM\",\"TDG\",\"TECK\",\"TEX\",\"TFC\",\"TFSL\",\"TGB\",\"TGI\",\"THC\",\"TLN\",\"TM\",\"TME\",\"TMHC\",\"TPB\",\"TPR\",\"TRMD\",\"TSCDY\",\"TSLA\",\"TSM\",\"TSN\",\"TTI\",\"TWLO\",\"TZOO\",\"U\",\"UAL\",\"UBS\",\"UGA\",\"UNFI\",\"UNG\",\"UNM\",\"URI\",\"URNM\",\"USFD\",\"VALE\",\"VET\",\"VFC\",\"VHI\",\"VICI\",\"VIPS\",\"VIRC\",\"VIRT\",\"VIST\",\"VLO\",\"VNO\",\"VRNA\",\"VST\",\"VTSI\",\"W\",\"WAFD\",\"WEC\",\"WES\",\"WF\",\"WFC\",\"WFG\",\"WFRD\",\"WPC\",\"WRBY\",\"WTI\",\"WY\",\"WYNN\",\"X\",\"XOM\",\"YEXT\",\"YPF\",\"ZETA\",\"ZEUS\",\"ZIM\",\"ZM\",\"ZS\"]\n",
    "# Name of the output CSV file\n",
    "output_file = \"D:\\\\Temp\\\\cress_ticker_financial_data.csv\"\n",
    "\n",
    "# Writing to the CSV file\n",
    "with open(output_file, mode='w', newline='') as file:\n",
    "    writer = csv.writer(file)\n",
    "    # Writing the header row\n",
    "    writer.writerow([\n",
    "        \"Ticker\", \"Market\", \"Sector\", \"Industry\", \"Beta\", \"Trailing PE\", \"Forward PE\",\n",
    "        \"Market Cap\", \"Trailing EPS\", \"Forward EPS\", \"PEG Ratio\",\n",
    "        \"Return on Assets\", \"Return on Equity\", \"Earnings Growth\", \"Revenue Growth\",\n",
    "        \"Gross Margins\", \"EBITDA Margins\", \"Operating Margins\", \"Trailing PEG Ratio\"\n",
    "    ])\n",
    "    \n",
    "    for ticker in tickers:\n",
    "        stock = yf.Ticker(ticker)\n",
    "        info = stock.info\n",
    "        \n",
    "        # Retrieve data\n",
    "        market = info.get('exchange', 'N/A')\n",
    "        sector = info.get('sector', 'N/A')\n",
    "        industry = info.get('industry', 'N/A')\n",
    "        beta = info.get('beta', 'N/A')\n",
    "        trailing_pe = info.get('trailingPE', 'N/A')\n",
    "        forward_pe = info.get('forwardPE', 'N/A')\n",
    "        market_cap = info.get('marketCap', 'N/A')\n",
    "        trailing_eps = info.get('trailingEps', 'N/A')\n",
    "        forward_eps = info.get('forwardEps', 'N/A')\n",
    "        peg_ratio = info.get('pegRatio', 'N/A')\n",
    "        return_on_assets = info.get('returnOnAssets', 'N/A')\n",
    "        return_on_equity = info.get('returnOnEquity', 'N/A')\n",
    "        earnings_growth = info.get('earningsGrowth', 'N/A')\n",
    "        revenue_growth = info.get('revenueGrowth', 'N/A')\n",
    "        gross_margins = info.get('grossMargins', 'N/A')\n",
    "        ebitda_margins = info.get('ebitdaMargins', 'N/A')\n",
    "        operating_margins = info.get('operatingMargins', 'N/A')\n",
    "        trailing_peg_ratio = info.get('trailingPegRatio', 'N/A')\n",
    "        \n",
    "        # Write data to the CSV file\n",
    "        writer.writerow([\n",
    "            ticker, market, sector, industry, beta, trailing_pe, forward_pe,\n",
    "            market_cap, trailing_eps, forward_eps, peg_ratio,\n",
    "            return_on_assets, return_on_equity, earnings_growth, revenue_growth,\n",
    "            gross_margins, ebitda_margins, operating_margins, trailing_peg_ratio\n",
    "        ])\n",
    "\n",
    "print(f\"Data successfully saved to: {output_file}\")\n"
   ]
  },
  {
   "cell_type": "code",
   "execution_count": null,
   "metadata": {},
   "outputs": [],
   "source": [
    "msft = yf.Ticker(\"MSFT\")\n",
    "\n",
    "# get all stock info\n",
    "msft.info\n"
   ]
  }
 ],
 "metadata": {
  "kernelspec": {
   "display_name": "Python 3",
   "language": "python",
   "name": "python3"
  },
  "language_info": {
   "codemirror_mode": {
    "name": "ipython",
    "version": 3
   },
   "file_extension": ".py",
   "mimetype": "text/x-python",
   "name": "python",
   "nbconvert_exporter": "python",
   "pygments_lexer": "ipython3",
   "version": "3.11.4"
  }
 },
 "nbformat": 4,
 "nbformat_minor": 2
}
