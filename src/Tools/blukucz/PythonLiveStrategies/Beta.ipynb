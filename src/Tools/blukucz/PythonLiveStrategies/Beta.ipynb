{
 "cells": [
  {
   "cell_type": "code",
   "execution_count": null,
   "metadata": {},
   "outputs": [],
   "source": [
    "import numpy as np\n",
    "import pandas as pd\n",
    "import yfinance as yf\n",
    "\n",
    "def calculate_alpha_beta(tickers, weights, benchmark, start_date, end_date):\n",
    "    # Fetch data from Yahoo Finance API\n",
    "    portf_returns = pd.DataFrame()\n",
    "    for ticker in tickers:\n",
    "        data = yf.download(ticker, start=start_date, end=end_date)['Adj Close'].pct_change()\n",
    "        print(f'YF data size: {ticker}: {data.size}')\n",
    "        print(f'Volatility of {ticker}: {np.std(data) * np.sqrt(252):.4f}')\n",
    "        portf_returns[ticker] = data\n",
    "\n",
    "    benchmark_returns = yf.download(benchmark, start=start_date, end=end_date)['Adj Close'].pct_change()\n",
    "    print(f'Volatility of {benchmark}: {np.std(benchmark_returns) * np.sqrt(252):.4f}')\n",
    "\n",
    "    # Omit the first row which may contain NaN values\n",
    "    portf_returns = portf_returns.iloc[1:]\n",
    "    benchmark_returns = benchmark_returns.iloc[1:]\n",
    "\n",
    "    # Calculate portfolio returns\n",
    "    portf_returns['Portfolio'] = np.dot(portf_returns, weights)\n",
    "\n",
    "    # Calculate covariance of portfolio and benchmark returns\n",
    "    cov_matrix = np.cov(portf_returns['Portfolio'], benchmark_returns)\n",
    "\n",
    "    # Calculate beta\n",
    "    beta = cov_matrix[0, 1] / benchmark_returns.var()\n",
    "\n",
    "    # Calculate alpha\n",
    "    alpha = (portf_returns['Portfolio'].mean() - beta * benchmark_returns.mean())\n",
    "\n",
    "    portf_stdev = portf_returns['Portfolio'].std()\n",
    "\n",
    "    return alpha, beta, portf_returns['Portfolio'].mean(), portf_stdev"
   ]
  },
  {
   "cell_type": "code",
   "execution_count": null,
   "metadata": {},
   "outputs": [],
   "source": [
    "# tickers = ['ADBE', 'AMAT', 'ARKK', 'BLDR', 'BRK-B', 'ETHE', 'FTNT', 'GBTC', 'QQQE', 'VXX', 'TMF', 'TSLA']\n",
    "# weights = [0.075, 0.075, 0.1, 0.1, 0.125, 0.05, 0.075, 0.05, 0.125, -0.125, 0.1, 0.075]\n",
    "tickers = [\"ACLS\", \"AMPH\", \"AMR\", \"ANF\", \"APP\", \"ARCH\", \"ASC\", \"BXC\", \"CAAP\", \"CAH\", \"CLS\", \"CMCSA\", \"COP\", \"CRM\", \"CVX\", \"DINO\", \"GOOGL\", \"GRBK\", \"HLIT\", \"JXN\", \"META\", \"MFC\", \"MHO\", \"MOD\", \"MPC\", \"NUE\", \"OKTA\", \"PEP\", \"PERI\", \"POWL\", \"SMCI\", \"STRL\", \"SU\", \"TEX\", \"TGLS\", \"TMUS\", \"TWLO\", \"UBER\", \"URI\", \"VLO\", \"XOM\"]\n",
    "nTickers = len(tickers)\n",
    "weights = [1.0 / nTickers] * nTickers # equal weight\n",
    "benchmark = 'QQQ'\n",
    "start_date = '2022-07-01'\n",
    "end_date = '2024-03-31'\n",
    "\n",
    "alpha, beta, portfolio_return, portfolio_volatility = calculate_alpha_beta(tickers, weights, benchmark, start_date, end_date)\n",
    "\n",
    "print(f'Alpha: {alpha*252:.4f}')\n",
    "print(f'Beta: {beta:.4f}')\n",
    "print(f'Portfolio Return: {portfolio_return*252:.4f}')\n",
    "print(f'Portfolio Volatility: {portfolio_volatility*np.sqrt(252):.4f}')"
   ]
  },
  {
   "cell_type": "code",
   "execution_count": null,
   "metadata": {},
   "outputs": [],
   "source": [
    "import yfinance as yf\n",
    "import pandas as pd\n",
    "\n",
    "tickers = [\"SPY\", \"ACLS\", \"AMPH\", \"AMR\", \"ANF\", \"APP\", \"ARCH\", \"ASC\", \"BXC\", \"CAAP\", \"CAH\", \"CLS\", \"CMCSA\", \"COP\", \"CRM\", \"CVX\", \"DINO\", \"GOOGL\", \"GRBK\", \"HLIT\", \"JXN\", \"LTHM\", \"META\", \"MFC\", \"MHO\", \"MOD\", \"MPC\", \"NUE\", \"OKTA\", \"PEP\", \"PERI\", \"POWL\", \"SMCI\", \"STRL\", \"SU\", \"TA\", \"TEX\", \"TGLS\", \"TMUS\", \"TWLO\", \"UBER\", \"URI\", \"VLO\", \"XOM\"]\n",
    "start_date = \"2021-01-01\"\n",
    "data = pd.DataFrame()\n",
    "\n",
    "for ticker in tickers:\n",
    "    tmp = yf.download(ticker, start=start_date)\n",
    "    tmp = tmp[[\"Adj Close\"]]\n",
    "    tmp.columns = [ticker]\n",
    "    if data.empty:\n",
    "        data = tmp\n",
    "    else:\n",
    "        data = data.join(tmp)\n",
    "\n",
    "data.to_csv(\"D:\\Temp\\stocks_data.csv\")"
   ]
  }
 ],
 "metadata": {
  "kernelspec": {
   "display_name": "Python 3",
   "language": "python",
   "name": "python3"
  },
  "language_info": {
   "codemirror_mode": {
    "name": "ipython",
    "version": 3
   },
   "file_extension": ".py",
   "mimetype": "text/x-python",
   "name": "python",
   "nbconvert_exporter": "python",
   "pygments_lexer": "ipython3",
   "version": "3.11.4"
  }
 },
 "nbformat": 4,
 "nbformat_minor": 2
}
