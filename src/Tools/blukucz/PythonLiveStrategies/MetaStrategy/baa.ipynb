{
 "cells": [
  {
   "cell_type": "code",
   "execution_count": null,
   "metadata": {},
   "outputs": [],
   "source": [
    "# %pip install yfinance\n",
    "# %pip install scipy\n",
    "# %pip install matplotlib\n",
    "# %pip install pyfolio\n",
    "# %pip uninstall pyfolio\n",
    "# %pip install git+https://github.com/quantopian/pyfolio\n",
    "# %pip install pandas\n",
    "# %pip install pandas-market-calendars"
   ]
  },
  {
   "cell_type": "code",
   "execution_count": 1,
   "metadata": {},
   "outputs": [],
   "source": [
    "# Ignore printing all warnings\n",
    "import warnings\n",
    "warnings.filterwarnings('ignore')\n",
    "\n",
    "# Importing necessary libraries\n",
    "import pandas as pd\n",
    "import numpy as np\n",
    "import matplotlib.pyplot as plt\n",
    "import yfinance as yf\n",
    "import pyfolio as pf\n",
    "import datetime as dt\n",
    "import pandas_datareader.data as web\n",
    "import os\n",
    "# import warnings\n",
    "\n",
    "# print all outputs\n",
    "from IPython.core.interactiveshell import InteractiveShell\n",
    "InteractiveShell.ast_node_interactivity = \"all\"\n",
    "from scipy.stats import rankdata"
   ]
  },
  {
   "cell_type": "code",
   "execution_count": 2,
   "metadata": {},
   "outputs": [],
   "source": [
    "ticker_list_canary = ['SPY', 'EEM', 'EFA', 'AGG']\n",
    "ticker_list_defensive = ['TIP', 'DBC', 'BIL', 'IEF', 'TLT', 'LQD', 'AGG']\n",
    "ticker_list_aggressive = ['QQQ', 'EEM', 'EFA', 'AGG']\n",
    "ticker_list_balanced = ['SPY', 'QQQ', 'IWM', 'VGK', 'EWJ', 'EEM', 'VNQ', 'DBC', 'GLD', 'TLT', 'HYG', 'LQD']\n",
    "rebalance_unit = 'Month'\n",
    "rebalance_freq = 1\n",
    "rebalance_shift = 0\n",
    "skipped_period = 0\n",
    "no_played_ETFs = {'offAgg' : 1, 'offBal' : 6, 'def' : 3}\n",
    "abs_threshold = -1\n",
    "start_date = '2004-01-01'\n",
    "end_date = '2022-10-24'"
   ]
  },
  {
   "cell_type": "code",
   "execution_count": 3,
   "metadata": {},
   "outputs": [],
   "source": [
    "ticker_list_all = ticker_list_canary + ticker_list_defensive + ticker_list_aggressive + ticker_list_balanced\n",
    "adj_close_price = yf.download(ticker_list_all,start = pd.to_datetime(start_date) + pd.DateOffset(years= -2),end = pd.to_datetime(end_date) + pd.DateOffset(days= 1) )['Adj Close']"
   ]
  },
  {
   "cell_type": "code",
   "execution_count": 4,
   "metadata": {},
   "outputs": [],
   "source": [
    "df = adj_close_price.copy()\n",
    "df['Year'], df['Month'], df['Week'] = df.index.year, df.index.month, df.index.isocalendar().week\n",
    "df['Monthly_Rb'] = df.Month != df.Month.shift(-1)\n",
    "df['Weekly_Rb'] = df.Week != df.Week.shift(-1)\n",
    "df['Daily_Rb'] = True\n",
    "df['RebalanceUnit'] = df.Monthly_Rb if rebalance_unit == 'Month' else df.Weekly_Rb if rebalance_unit == 'Week' else df.Daily_Rb\n",
    "df.RebalanceUnit = df.RebalanceUnit.shift(rebalance_shift).fillna(False) \n",
    "df.RebalanceUnit[0] = True\n",
    "df['NoPeriod'] = df.RebalanceUnit.shift(1).cumsum()\n",
    "df.NoPeriod[0] = 0\n",
    "df['NoData'] = np.arange(len(df)) + 1\n",
    "df['Rebalance'] = np.where((df.RebalanceUnit == True) & (df.NoPeriod.mod(rebalance_freq) == 0), True, False)"
   ]
  },
  {
   "cell_type": "code",
   "execution_count": null,
   "metadata": {},
   "outputs": [],
   "source": [
    "dailyret = adj_close_price/adj_close_price.shift(1) - 1"
   ]
  },
  {
   "cell_type": "code",
   "execution_count": null,
   "metadata": {},
   "outputs": [],
   "source": [
    "canary_lbs_base = np.array([1, 3, 6, 12])\n",
    "canary_lbs = canary_lbs_base * 21\n",
    "canary_weights = [12, 4, 2, 1]\n",
    "canary_df = df[ticker_list_canary]\n",
    "canary_rets = (canary_df / canary_df.shift(canary_lbs[0]) - 1) * canary_weights[0] + (canary_df / canary_df.shift(canary_lbs[1]) - 1) * canary_weights[1] + (canary_df / canary_df.shift(canary_lbs[2]) - 1) * canary_weights[2] + (canary_df / canary_df.shift(canary_lbs[3]) - 1) * canary_weights[3]\n",
    "canary_signal = (canary_rets > 0).sum(1) / len(ticker_list_canary)"
   ]
  },
  {
   "cell_type": "code",
   "execution_count": null,
   "metadata": {},
   "outputs": [],
   "source": [
    "rel_mom_lbs_base = np.array([0, 1, 2, 3, 4, 5, 6, 7, 8, 9, 10, 11, 12])\n",
    "rel_mom_lbs = (rel_mom_lbs_base + skipped_period) * 21\n",
    "rel_mom_weights = [1, 1, 1, 1, 1, 1, 1, 1, 1, 1, 1, 1, 1]\n",
    "defensive_df = df[ticker_list_defensive]\n",
    "aggressive_df = df[ticker_list_aggressive]\n",
    "balanced_df = df[ticker_list_balanced]\n"
   ]
  },
  {
   "cell_type": "code",
   "execution_count": null,
   "metadata": {},
   "outputs": [],
   "source": [
    "def rel_mom_weighted(used_df_p, rel_mom_lbs_p, rel_mom_weights_p, skipped_period_p):\n",
    "    used_avg_price = pd.DataFrame(0, index = used_df_p.index, columns = used_df_p.columns)\n",
    "    for i in range(len(rel_mom_lbs_p)):\n",
    "        used_avg_price += used_df_p.shift(rel_mom_lbs_p[i]) * rel_mom_weights_p[i]\n",
    "    used_avg_price = used_avg_price / sum(rel_mom_weights_p)\n",
    "    used_rets = used_df_p.shift(skipped_period_p * 21) / used_avg_price - 1\n",
    "    return used_rets\n"
   ]
  },
  {
   "cell_type": "code",
   "execution_count": null,
   "metadata": {},
   "outputs": [],
   "source": [
    "defensive_rets = rel_mom_weighted(defensive_df, rel_mom_lbs, rel_mom_weights, skipped_period)\n",
    "aggressive_rets = rel_mom_weighted(aggressive_df, rel_mom_lbs, rel_mom_weights, skipped_period)\n",
    "balanced_rets = rel_mom_weighted(balanced_df, rel_mom_lbs, rel_mom_weights, skipped_period)\n",
    "defensive_rank = defensive_rets.rank(axis = 1, ascending = False)\n",
    "aggressive_rank = aggressive_rets.rank(axis = 1, ascending = False)\n",
    "balanced_rank = balanced_rets.rank(axis = 1, ascending = False)\n",
    "defensive_played = ((defensive_rets > abs_threshold) & (defensive_rank <= no_played_ETFs['def'])).sum(1)\n",
    "aggressive_played = ((aggressive_rets > abs_threshold) & (aggressive_rank <= no_played_ETFs['offAgg'])).sum(1)\n",
    "balanced_played = ((balanced_rets > abs_threshold) & (balanced_rank <= no_played_ETFs['offBal'])).sum(1)\n",
    "defensive_weights = (defensive_rank.divide(defensive_rank, axis = 0).divide(defensive_played, axis =0)).where((defensive_rank <= no_played_ETFs['def']) & (defensive_rets > abs_threshold), 0)\n",
    "aggressive_weights = (aggressive_rank.divide(aggressive_rank, axis = 0).divide(aggressive_played, axis =0)).where((aggressive_rank <= no_played_ETFs['offAgg']) & (aggressive_rets > abs_threshold), 0)\n",
    "balanced_weights = (balanced_rank.divide(balanced_rank, axis = 0).divide(balanced_played, axis =0)).where((balanced_rank <= no_played_ETFs['offBal']) & (balanced_rets > abs_threshold), 0)\n",
    "def_cash_weight = 1 - defensive_weights.sum(axis = 1)\n",
    "agg_cash_weight = 1 - aggressive_weights.sum(axis = 1)\n",
    "bal_cash_weight = 1 - balanced_weights.sum(axis = 1)"
   ]
  },
  {
   "cell_type": "code",
   "execution_count": null,
   "metadata": {},
   "outputs": [],
   "source": [
    "no_agg_etfs = len(ticker_list_aggressive)\n",
    "no_bal_etfs = len(ticker_list_balanced)\n",
    "no_def_etfs = len(ticker_list_defensive)\n",
    "canary_signal = np.array(canary_signal)\n",
    "aggressive_weights_helper = np.array(aggressive_weights)\n",
    "balanced_weights_helper = np.array(balanced_weights)\n",
    "defensive_weights_helper = np.array(defensive_weights)\n",
    "\n",
    "agg_def_df = pd.concat([aggressive_df, defensive_df], axis = 1)\n",
    "no_rows, no_cols = agg_def_df.shape\n",
    "agg_def_weights_helper = np.zeros((no_rows, no_cols))\n",
    "for i in range(no_rows):\n",
    "    if canary_signal[i] == 1:\n",
    "        for j in range(no_agg_etfs):\n",
    "            agg_def_weights_helper[i, j] = aggressive_weights_helper[i, j]\n",
    "    else:\n",
    "        for j in range(no_def_etfs):\n",
    "            agg_def_weights_helper[i, j + no_agg_etfs] = defensive_weights_helper[i, j]\n",
    "agg_def_weights = pd.DataFrame(agg_def_weights_helper, index = agg_def_df.index, columns = agg_def_df.columns)\n",
    "agg_def_cash_weight = 1 - agg_def_weights.sum(axis = 1)\n",
    "\n",
    "bal_def_df = pd.concat([balanced_df, defensive_df], axis = 1)\n",
    "no_rows, no_cols = bal_def_df.shape\n",
    "bal_def_weights_helper = np.zeros((no_rows, no_cols))\n",
    "for i in range(no_rows):\n",
    "    if canary_signal[i] == 1:\n",
    "        for j in range(no_bal_etfs):\n",
    "            bal_def_weights_helper[i, j] = balanced_weights_helper[i, j]\n",
    "    else:\n",
    "        for j in range(no_def_etfs):\n",
    "            bal_def_weights_helper[i, j + no_bal_etfs] = defensive_weights_helper[i, j]\n",
    "bal_def_weights = pd.DataFrame(bal_def_weights_helper, index = bal_def_df.index, columns = bal_def_df.columns)\n",
    "bal_def_cash_weight = 1 - bal_def_weights.sum(axis = 1)\n"
   ]
  },
  {
   "cell_type": "code",
   "execution_count": null,
   "metadata": {},
   "outputs": [],
   "source": [
    "def positions_pv(acp_p, rebalance_p, weights_p, cash_weight_p, start_date_p):\n",
    "    adjclose = acp_p.fillna(1).to_numpy()\n",
    "    rebalanceday = rebalance_p.to_numpy()\n",
    "    weights = weights_p.fillna(0).to_numpy()\n",
    "    cash_weight = cash_weight_p.to_numpy()\n",
    "    no_rows, no_cols = acp_p.shape\n",
    "\n",
    "    positions = np.zeros((no_rows, no_cols))\n",
    "    pv = np.ones((no_rows,1))\n",
    "    cash = np.ones((no_rows,1))\n",
    "    start_ind = np.argmax(acp_p.index >= start_date_p)\n",
    "    for i in range(start_ind, no_rows):\n",
    "        pv[i] = 0\n",
    "        for j in range(no_cols):\n",
    "            if rebalanceday[i-1] == True:\n",
    "                positions[i,j] = pv[i-1] * weights[i-1,j] / adjclose[i-1,j]                \n",
    "            else:\n",
    "                positions[i,j] = positions[i-1,j]\n",
    "            pv[i] += positions[i,j] * adjclose[i,j]\n",
    "        if rebalanceday[i-1] == True:\n",
    "            cash[i] = pv[i-1] * cash_weight[i-1]\n",
    "        else:\n",
    "            cash[i] = cash[i-1]\n",
    "        pv[i] += cash[i] \n",
    "    \n",
    "    positions_df = pd.DataFrame(positions, index = acp_p.index, columns = acp_p.columns)\n",
    "    positions_df_sel = positions_df.iloc[start_ind-1:no_rows,:]\n",
    "    pv_df =  pd.DataFrame(pv, index = acp_p.index)\n",
    "    pv_df_sel = pv_df.iloc[start_ind-1:no_rows,0]\n",
    "    cash_df =  pd.DataFrame(cash, index = acp_p.index)\n",
    "    cash_df_sel = cash_df.iloc[start_ind-1:no_rows,0]\n",
    "    return positions_df_sel, cash_df_sel, pv_df_sel"
   ]
  },
  {
   "cell_type": "code",
   "execution_count": null,
   "metadata": {},
   "outputs": [],
   "source": [
    "def positions_pv_ew(acp_p, rebalance_p, start_date_p):\n",
    "    adjclose = acp_p.fillna(0).to_numpy()\n",
    "    rebalanceday = rebalance_p.to_numpy()\n",
    "    no_rows, no_cols = acp_p.shape\n",
    "    no_ava_etfs = (acp_p > 0).sum(1)\n",
    "\n",
    "    positions = np.zeros((no_rows, no_cols))\n",
    "    pv = np.ones((no_rows,1))\n",
    "    cash = np.ones((no_rows,1))\n",
    "    start_ind = np.argmax(acp_p.index >= start_date_p)\n",
    "\n",
    "    pv[start_ind] = 0\n",
    "    for j in range(no_cols):\n",
    "        positions[start_ind, j] = pv[start_ind - 1] * (1 / no_ava_etfs[start_ind - 1]) / adjclose[start_ind - 1, j] if adjclose[start_ind - 1, j] > 0 else 0\n",
    "        pv[start_ind] += positions[start_ind, j] * adjclose[start_ind, j]\n",
    "    \n",
    "    for i in range(start_ind + 1, no_rows):\n",
    "        pv[i] = 0\n",
    "        for j in range(no_cols):\n",
    "            if rebalanceday[i-1] == True:\n",
    "                positions[i,j] = pv[i-1] * (1 / no_ava_etfs[i-1]) / adjclose[i-1,j] if adjclose[i-1, j] > 0 else 0                \n",
    "            else:\n",
    "                positions[i,j] = positions[i-1,j]\n",
    "            pv[i] += positions[i,j] * adjclose[i,j]\n",
    "        if rebalanceday[i-1] == True:\n",
    "            cash[i] = 0\n",
    "        else:\n",
    "            cash[i] = 0\n",
    "        pv[i] += cash[i] \n",
    "    \n",
    "    positions_df = pd.DataFrame(positions, index = acp_p.index, columns = acp_p.columns)\n",
    "    positions_df_sel = positions_df.iloc[start_ind-1:no_rows,:]\n",
    "    pv_df =  pd.DataFrame(pv, index = acp_p.index)\n",
    "    pv_df_sel = pv_df.iloc[start_ind-1:no_rows,0]\n",
    "    cash_df =  pd.DataFrame(cash, index = acp_p.index)\n",
    "    cash_df_sel = cash_df.iloc[start_ind-1:no_rows,0]\n",
    "    return positions_df_sel, cash_df_sel, pv_df_sel"
   ]
  },
  {
   "cell_type": "code",
   "execution_count": null,
   "metadata": {},
   "outputs": [],
   "source": [
    "pos_agg, cash_agg, pv_agg = positions_pv(aggressive_df, df.Rebalance, aggressive_weights, agg_cash_weight, start_date)\n",
    "pos_bal, cash_bal, pv_bal = positions_pv(balanced_df, df.Rebalance, balanced_weights, bal_cash_weight, start_date)\n",
    "pos_def, cash_def, pv_def = positions_pv(defensive_df, df.Rebalance, defensive_weights, def_cash_weight, start_date)\n",
    "pos_agg_def, cash_agg_def, pv_agg_def = positions_pv(agg_def_df, df.Rebalance, agg_def_weights, agg_def_cash_weight, start_date)\n",
    "pos_bal_def, cash_bal_def, pv_bal_def = positions_pv(bal_def_df, df.Rebalance, bal_def_weights, bal_def_cash_weight, start_date)\n",
    "pos_ew, cash_ew, pv_ew = positions_pv_ew(adj_close_price, df.Rebalance, start_date)\n",
    "\n",
    "ew_rets = pv_ew / pv_ew.shift(1) - 1\n",
    "agg_rets = pv_agg / pv_agg.shift(1) - 1\n",
    "bal_rets = pv_bal / pv_bal.shift(1) - 1\n",
    "def_rets = pv_def / pv_def.shift(1) - 1\n",
    "agg_def_rets = pv_agg_def / pv_agg_def.shift(1) - 1\n",
    "bal_def_rets = pv_bal_def / pv_bal_def.shift(1) - 1\n",
    "aggressive_weights2 = aggressive_weights.copy()\n",
    "aggressive_weights2['cash'] = agg_cash_weight\n",
    "balanced_weights2 = balanced_weights.copy()\n",
    "balanced_weights2['cash'] = bal_cash_weight\n",
    "defensive_weights2 = defensive_weights.copy()\n",
    "defensive_weights2['cash'] = def_cash_weight\n",
    "agg_def_weights2 = agg_def_weights.copy()\n",
    "agg_def_weights2['cash'] = agg_def_cash_weight\n",
    "bal_def_weights2 = bal_def_weights.copy()\n",
    "bal_def_weights2['cash'] = bal_def_cash_weight\n"
   ]
  },
  {
   "cell_type": "code",
   "execution_count": null,
   "metadata": {},
   "outputs": [],
   "source": [
    "# with open('csv_data4.csv', 'w') as csv_file:\n",
    "#     pos_bal_def.to_csv(path_or_buf=csv_file, sep = ';')"
   ]
  },
  {
   "cell_type": "code",
   "execution_count": null,
   "metadata": {},
   "outputs": [],
   "source": [
    "# np.savetxt('out.csv', canary_signal, delimiter=';')"
   ]
  },
  {
   "cell_type": "code",
   "execution_count": null,
   "metadata": {},
   "outputs": [],
   "source": [
    "pf.create_full_tear_sheet(bal_def_rets, positions = bal_def_weights2, benchmark_rets = ew_rets)"
   ]
  }
 ],
 "metadata": {
  "kernelspec": {
   "display_name": "Python 3.10.7 64-bit",
   "language": "python",
   "name": "python3"
  },
  "language_info": {
   "codemirror_mode": {
    "name": "ipython",
    "version": 3
   },
   "file_extension": ".py",
   "mimetype": "text/x-python",
   "name": "python",
   "nbconvert_exporter": "python",
   "pygments_lexer": "ipython3",
   "version": "3.11.4"
  },
  "orig_nbformat": 4,
  "vscode": {
   "interpreter": {
    "hash": "7b615d01120494f282c426459c34041206581ea59e4730aabec3fd78664a65ed"
   }
  }
 },
 "nbformat": 4,
 "nbformat_minor": 2
}
