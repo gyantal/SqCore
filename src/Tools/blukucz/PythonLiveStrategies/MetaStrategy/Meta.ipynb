{
 "cells": [
  {
   "cell_type": "code",
   "execution_count": null,
   "metadata": {},
   "outputs": [],
   "source": [
    "import warnings\n",
    "warnings.filterwarnings('ignore')\n",
    "import pyfolio as pf\n",
    "from taa import taa\n",
    "from baa import baa\n",
    "from dualmom import dualmom"
   ]
  },
  {
   "cell_type": "code",
   "execution_count": null,
   "metadata": {},
   "outputs": [],
   "source": [
    "#Tactical Asset Allocation by Varadi\n",
    "\n",
    "taa_ticker_list = ['VNQ', 'EEM', 'DBC', 'SPY', 'QQQ', 'TLT']\n",
    "taa_perc_ch_lb_list = [60, 120, 180, 250]\n",
    "taa_vol_lb = 20\n",
    "taa_perc_ch_up_thres = 0.75\n",
    "taa_perc_ch_low_thres = 0.25\n",
    "taa_rebalance_unit = 'Month'\n",
    "taa_rebalance_freq = 1\n",
    "taa_rebalance_shift = 0\n",
    "taa_start_date = '2004-01-01'\n",
    "taa_end_date = '2022-10-31'\n",
    "\n",
    "\n",
    "taa_pv, taa_strat_rets, taa_weights, taa_pos, taa_cash, taa_curr_weights, taa_pv_ew, taa_strat_rets_ew, taa_pos_ew, taa_cash_ew =taa(taa_ticker_list, taa_perc_ch_lb_list, taa_vol_lb, taa_perc_ch_up_thres, taa_perc_ch_low_thres, taa_rebalance_unit, taa_rebalance_freq, taa_rebalance_shift, taa_start_date, taa_end_date)\n",
    "\n",
    "print(taa_curr_weights)\n",
    "#pf.create_simple_tear_sheet(taa_strat_rets)\n",
    "#pf.create_full_tear_sheet(taa_strat_rets, positions = taa_weights, benchmark_rets = taa_strat_rets_ew)"
   ]
  },
  {
   "cell_type": "code",
   "execution_count": null,
   "metadata": {},
   "outputs": [],
   "source": [
    "# Bold Asset Allocation\n",
    "\n",
    "baa_ticker_list_canary = ['SPY', 'EEM', 'EFA', 'AGG']\n",
    "baa_ticker_list_defensive = ['TIP', 'DBC', 'BIL', 'IEF', 'TLT', 'LQD', 'AGG']\n",
    "baa_ticker_list_aggressive = ['QQQ', 'EEM', 'EFA', 'AGG']\n",
    "baa_ticker_list_balanced = ['SPY', 'QQQ', 'IWM', 'VGK', 'EWJ', 'EEM', 'VNQ', 'DBC', 'GLD', 'TLT', 'HYG', 'LQD']\n",
    "baa_rebalance_unit = 'Month'\n",
    "baa_rebalance_freq = 1\n",
    "baa_rebalance_shift = 0\n",
    "baa_skipped_period = 0\n",
    "baa_no_played_ETFs = {'offAgg' : 1, 'offBal' : 6, 'def' : 3}\n",
    "baa_abs_threshold = -1\n",
    "baa_start_date = '2004-01-01'\n",
    "baa_end_date = '2022-10-31'\n",
    "\n",
    "# sub-strategy selector:\n",
    "#    agg: Offensive - Aggressive\n",
    "#    bal: Offensive - Balanced\n",
    "#    def: Defensive\n",
    "#    agg_def: Offensive - Aggressive + Defensive\n",
    "#    bal_def: Offensive - Balanced + Defensive\n",
    "\n",
    "baa_strat_selector = 'agg_def'\n",
    "\n",
    "baa_pv, baa_strat_rets, baa_weights, baa_pos, baa_cash, baa_curr_weights, baa_pv_ew, baa_strat_rets_ew, baa_pos_ew, baa_cash_ew = baa(baa_strat_selector, baa_ticker_list_canary, baa_ticker_list_defensive, baa_ticker_list_aggressive, baa_ticker_list_balanced, baa_rebalance_unit, baa_rebalance_freq, baa_rebalance_shift, baa_skipped_period, baa_no_played_ETFs, baa_abs_threshold, baa_start_date, baa_end_date)\n",
    "\n",
    "print(baa_curr_weights)\n",
    "#pf.create_simple_tear_sheet(baa_strat_rets)\n",
    "# pf.create_full_tear_sheet(baa_strat_rets, positions = baa_weights, benchmark_rets = baa_strat_rets_ew)"
   ]
  },
  {
   "cell_type": "code",
   "execution_count": null,
   "metadata": {},
   "outputs": [],
   "source": [
    "# Dual Momentum with Volatility and Correlation\n",
    "\n",
    "dm_tickers_list = ['VNQ', 'EEM', 'DBC', 'SPY', 'TLT', 'SHY']\n",
    "dm_rebalance_unit = 'Month'\n",
    "dm_rebalance_freq = 1\n",
    "dm_rebalance_shift = 0\n",
    "dm_lb_period = 4\n",
    "dm_skipped_period = 0\n",
    "dm_no_played_ETFs = 3\n",
    "dm_sub_rank_weights = {'relMom' : 0.5, 'volatility' : 0.25, 'correlation' : 0.25}\n",
    "dm_abs_threshold = 0\n",
    "dm_start_date = '2004-01-01'\n",
    "dm_end_date = '2022-10-31'\n",
    "\n",
    "dm_pv, dm_strat_rets, dm_weights2, dm_pos, dm_cash, dm_curr_weights, dm_pv_ew, dm_strat_rets_ew, dm_pos_ew, dm_cash_ew = dualmom(dm_tickers_list, dm_rebalance_unit, dm_rebalance_freq, dm_rebalance_shift, dm_lb_period, dm_skipped_period, dm_no_played_ETFs, dm_sub_rank_weights, dm_abs_threshold, dm_start_date, dm_end_date)\n",
    "\n",
    "print(dm_curr_weights)\n",
    "pf.create_simple_tear_sheet(dm_strat_rets)\n",
    "# pf.create_full_tear_sheet(baa_strat_rets, positions = baa_weights, benchmark_rets = baa_strat_rets_ew)"
   ]
  },
  {
   "cell_type": "code",
   "execution_count": null,
   "metadata": {},
   "outputs": [],
   "source": []
  }
 ],
 "metadata": {
  "kernelspec": {
   "display_name": "Python 3.10.7 64-bit",
   "language": "python",
   "name": "python3"
  },
  "language_info": {
   "codemirror_mode": {
    "name": "ipython",
    "version": 3
   },
   "file_extension": ".py",
   "mimetype": "text/x-python",
   "name": "python",
   "nbconvert_exporter": "python",
   "pygments_lexer": "ipython3",
   "version": "3.10.7"
  },
  "orig_nbformat": 4,
  "vscode": {
   "interpreter": {
    "hash": "7b615d01120494f282c426459c34041206581ea59e4730aabec3fd78664a65ed"
   }
  }
 },
 "nbformat": 4,
 "nbformat_minor": 2
}
