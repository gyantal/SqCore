{
 "cells": [
  {
   "cell_type": "code",
   "execution_count": null,
   "metadata": {},
   "outputs": [],
   "source": [
    "import warnings\n",
    "warnings.filterwarnings('ignore')\n",
    "import pyfolio as pf\n",
    "import pandas as pd\n",
    "import numpy as np\n",
    "from taa_lib import taa\n",
    "from baa_lib import baa\n",
    "from dualmom_lib import dualmom\n",
    "from meta_lib import meta\n",
    "from leveraged_ew_meta_lib import leveraged_ew_meta\n",
    "import common_perf_ana as cpa"
   ]
  },
  {
   "cell_type": "code",
   "execution_count": null,
   "metadata": {},
   "outputs": [],
   "source": [
    "# %pip install pandas-market-calendars"
   ]
  },
  {
   "cell_type": "code",
   "execution_count": null,
   "metadata": {},
   "outputs": [],
   "source": [
    "#Tactical Asset Allocation by Varadi\n",
    "\n",
    "taa_ticker_list = ['VNQ', 'EEM', 'DBC', 'SPY', 'QQQ', 'TLT']\n",
    "taa_perc_ch_lb_list = [60, 120, 180, 250]\n",
    "taa_vol_lb = 20\n",
    "taa_perc_ch_up_thres = 0.75\n",
    "taa_perc_ch_low_thres = 0.25\n",
    "taa_rebalance_unit = 'Month'\n",
    "taa_rebalance_freq = 1\n",
    "taa_rebalance_shift = 0\n",
    "taa_start_date = '2004-01-01'\n",
    "taa_end_date = '2022-10-31'\n",
    "\n",
    "\n",
    "taa_pv, taa_strat_rets, taa_weights, taa_pos, taa_cash, taa_curr_weights, taa_pv_ew, taa_strat_rets_ew, taa_pos_ew, taa_cash_ew =taa(taa_ticker_list, taa_perc_ch_lb_list, taa_vol_lb, taa_perc_ch_up_thres, taa_perc_ch_low_thres, taa_rebalance_unit, taa_rebalance_freq, taa_rebalance_shift, taa_start_date, taa_end_date)\n",
    "\n",
    "print(taa_curr_weights)\n",
    "pf.create_simple_tear_sheet(taa_strat_rets)\n",
    "#pf.create_full_tear_sheet(taa_strat_rets, positions = taa_weights, benchmark_rets = taa_strat_rets_ew)"
   ]
  },
  {
   "cell_type": "code",
   "execution_count": null,
   "metadata": {},
   "outputs": [],
   "source": [
    "# Bold Asset Allocation\n",
    "\n",
    "baa_ticker_list_canary = ['SPY', 'EEM', 'EFA', 'AGG']\n",
    "baa_ticker_list_defensive = ['TIP', 'DBC', 'BIL', 'IEF', 'TLT', 'LQD', 'AGG']\n",
    "#baa_ticker_list_aggressive = ['QQQ']\n",
    "baa_ticker_list_aggressive = ['QQQ', 'EEM', 'EFA', 'AGG']\n",
    "baa_ticker_list_balanced = ['SPY', 'QQQ', 'IWM', 'VGK', 'EWJ', 'EEM', 'VNQ', 'DBC', 'GLD', 'TLT', 'HYG', 'LQD']\n",
    "baa_rebalance_unit = 'Month'\n",
    "baa_rebalance_freq = 1\n",
    "baa_rebalance_shift = 0\n",
    "baa_skipped_period = 0\n",
    "baa_no_played_ETFs = {'offAgg' : 1, 'offBal' : 6, 'def' : 3}\n",
    "baa_abs_threshold = -1\n",
    "baa_start_date = '2004-01-01'\n",
    "baa_end_date = '2023-12-31'\n",
    "\n",
    "# sub-strategy selector:\n",
    "#    agg: Offensive - Aggressive\n",
    "#    bal: Offensive - Balanced\n",
    "#    def: Defensive\n",
    "#    agg_def: Offensive - Aggressive + Defensive\n",
    "#    bal_def: Offensive - Balanced + Defensive\n",
    "\n",
    "baa_strat_selector = 'agg_def'\n",
    "\n",
    "baa_pv, baa_strat_rets, baa_weights, baa_pos, baa_cash, baa_curr_weights, baa_pv_ew, baa_strat_rets_ew, baa_pos_ew, baa_cash_ew = baa(baa_strat_selector, baa_ticker_list_canary, baa_ticker_list_defensive, baa_ticker_list_aggressive, baa_ticker_list_balanced, baa_rebalance_unit, baa_rebalance_freq, baa_rebalance_shift, baa_skipped_period, baa_no_played_ETFs, baa_abs_threshold, baa_start_date, baa_end_date)\n",
    "\n",
    "baa_strat_selector = 'bal_def'\n",
    "\n",
    "baa2_pv, baa2_strat_rets, baa2_weights, baa2_pos, baa2_cash, baa2_curr_weights, baa2_pv_ew, baa2_strat_rets_ew, baa2_pos_ew, baa2_cash_ew = baa(baa_strat_selector, baa_ticker_list_canary, baa_ticker_list_defensive, baa_ticker_list_aggressive, baa_ticker_list_balanced, baa_rebalance_unit, baa_rebalance_freq, baa_rebalance_shift, baa_skipped_period, baa_no_played_ETFs, baa_abs_threshold, baa_start_date, baa_end_date)\n",
    "\n",
    "print(baa2_curr_weights)\n",
    "# pf.create_simple_tear_sheet(baa_strat_rets)\n",
    "pf.create_full_tear_sheet(baa_strat_rets, positions = baa_weights, benchmark_rets = baa_strat_rets_ew)"
   ]
  },
  {
   "cell_type": "code",
   "execution_count": null,
   "metadata": {},
   "outputs": [],
   "source": [
    "# Dual Momentum with Volatility and Correlation\n",
    "\n",
    "dm_tickers_list = ['VNQ', 'EEM', 'DBC', 'SPY', 'TLT', 'SHY']\n",
    "dm_rebalance_unit = 'Month'\n",
    "dm_rebalance_freq = 1\n",
    "dm_rebalance_shift = 0\n",
    "dm_lb_period = 4\n",
    "dm_skipped_period = 0\n",
    "dm_no_played_ETFs = 3\n",
    "dm_sub_rank_weights = {'relMom' : 0.5, 'volatility' : 0.25, 'correlation' : 0.25}\n",
    "dm_abs_threshold = 0\n",
    "dm_start_date = '2004-01-01'\n",
    "dm_end_date = '2022-10-31'\n",
    "\n",
    "dm_pv, dm_strat_rets, dm_weights2, dm_pos, dm_cash, dm_curr_weights, dm_pv_ew, dm_strat_rets_ew, dm_pos_ew, dm_cash_ew = dualmom(dm_tickers_list, dm_rebalance_unit, dm_rebalance_freq, dm_rebalance_shift, dm_lb_period, dm_skipped_period, dm_no_played_ETFs, dm_sub_rank_weights, dm_abs_threshold, dm_start_date, dm_end_date)\n",
    "\n",
    "print(dm_curr_weights)\n",
    "pf.create_simple_tear_sheet(dm_strat_rets)\n",
    "# pf.create_full_tear_sheet(baa_strat_rets, positions = baa_weights, benchmark_rets = baa_strat_rets_ew)"
   ]
  },
  {
   "cell_type": "code",
   "execution_count": null,
   "metadata": {},
   "outputs": [],
   "source": [
    "meta_parameters = {\n",
    "    'meta_rebalance_unit' : 'Month',\n",
    "    'meta_rebalance_freq' : 1,\n",
    "    'meta_rebalance_shift' : 0,\n",
    "    'meta_lb_period' : 3,\n",
    "    'meta_skipped_period' : 0,\n",
    "    'meta_fixed_substrat_weights' : {'DoubleMom' : 3, 'BAA_AggDef' : 2, 'BAA_BalDef' : 2, 'TAA' : 1},\n",
    "    'meta_rel_mom_substrat_weights' : [1, 2, 4, 8], #[Top Perfromer, Second Perf., Third Perf., Fourth Perf.]\n",
    "    'meta_sharpe_substrat_weights' : [1, 2, 4, 8], #[Top Perfromer, Second Perf., Third Perf., Fourth Perf.]\n",
    "    'meta_sortino_substrat_weights' : [1, 2, 4, 8], #[Top Perfromer, Second Perf., Third Perf., Fourth Perf.]\n",
    "    'meta_rel_mom_abs_threshold' : -1,\n",
    "    'meta_sharpe_abs_threshold' : -100,\n",
    "    'meta_sortino_abs_threshold' : -100,\n",
    "    'meta_start_date' : '2004-01-01',\n",
    "    'meta_end_date' : '2022-12-31'\n",
    "}\n",
    "\n",
    "meta_leverage_parameters = {\n",
    "    'meta_overall_leverage' : 1,\n",
    "    'meta_ETF_perf_leverage_threshold' : [0.2, 0.4, 0.6, 0.8, 1],\n",
    "    'meta_ETF_perf_leverage' : [2, 1.5, 1, 0.75, 0.5],\n",
    "    'meta_monthly_seas_based_leverage' : [1.5, 1.5, 1.25, 1.25, 1, 1, 1, 1, 1, 1, 1, 1],\n",
    "    'meta_leverage_lookback_years': 5,\n",
    "    'meta_tlt_based_leverage' : [1.1, 1.1, 1, 0.8], #[Bull, Rebound, Correction, Bear]\n",
    "}\n",
    "\n",
    "taa_parameters = {\n",
    "    'taa_ticker_list' : ['VNQ', 'EEM', 'DBC', 'SPY', 'QQQ', 'TLT'],\n",
    "    'taa_perc_ch_lb_list' : [60, 120, 180, 250],\n",
    "    'taa_vol_lb' : 20,\n",
    "    'taa_perc_ch_up_thres' : 0.75,\n",
    "    'taa_perc_ch_low_thres' : 0.25,\n",
    "    'taa_rebalance_unit' : 'Month',\n",
    "    'taa_rebalance_freq' : 1,\n",
    "    'taa_rebalance_shift' : 0\n",
    "}\n",
    "\n",
    "bold_parameters = {\n",
    "    'baa_ticker_list_canary' : ['SPY', 'EEM', 'EFA', 'AGG'],\n",
    "    'baa_ticker_list_defensive' : ['TIP', 'DBC', 'BIL', 'IEF', 'TLT', 'LQD', 'AGG'],\n",
    "    'baa_ticker_list_aggressive' : ['QQQ', 'EEM', 'EFA', 'AGG'],\n",
    "    'baa_ticker_list_balanced' : ['SPY', 'QQQ', 'IWM', 'VGK', 'EWJ', 'EEM', 'VNQ', 'DBC', 'GLD', 'TLT', 'HYG', 'LQD'],\n",
    "    'baa_rebalance_unit' : 'Month',\n",
    "    'baa_rebalance_freq' : 1,\n",
    "    'baa_rebalance_shift' : 0,\n",
    "    'baa_skipped_period' : 0,\n",
    "    'baa_no_played_ETFs' : {'offAgg' : 1, 'offBal' : 6, 'def' : 3},\n",
    "    'baa_abs_threshold' : -1\n",
    "}\n",
    "\n",
    "dual_mom_parameters = {\n",
    "    'dm_tickers_list' : ['VNQ', 'EEM', 'DBC', 'SPY', 'TLT', 'SHY'],\n",
    "    'dm_rebalance_unit' : 'Month',\n",
    "    'dm_rebalance_freq' : 1,\n",
    "    'dm_rebalance_shift' : 0,\n",
    "    'dm_lb_period' : 4,\n",
    "    'dm_skipped_period' : 0,\n",
    "    'dm_no_played_ETFs' : 3,\n",
    "    'dm_sub_rank_weights' : {'relMom' : 0.5, 'volatility' : 0.25, 'correlation' : 0.25},\n",
    "    'dm_abs_threshold' : 0\n",
    "}\n",
    "\n",
    "# pv_dct, rets_dct, weights_dct, pos_dct, cash_dct, curr_substrats_weights_dct, curr_ETF_weights_dct, adj_close_price, cum_ew_based_weights = meta(meta_parameters, taa_parameters, bold_parameters, dual_mom_parameters)\n",
    "# {'fixed_based', 'ew_based', 'rel_mom_based', 'sharpe_based', 'sortino_based'}\n",
    "\n",
    "pv_played_fin, strat_played_rets, strat_played_weights, pos_played_fin, cash_played_fin, strat_played_curr_weights = leveraged_ew_meta(meta_parameters, taa_parameters, bold_parameters, dual_mom_parameters, meta_leverage_parameters)\n",
    "print(strat_played_curr_weights)\n",
    "pf.create_simple_tear_sheet(strat_played_rets)"
   ]
  },
  {
   "cell_type": "code",
   "execution_count": null,
   "metadata": {},
   "outputs": [],
   "source": [
    "curr_substrat_weightsRes = pd.DataFrame.from_dict(curr_substrats_weights_dct)\n",
    "curr_substrat_weightsRes.head(5000)\n",
    "curr_ETF_weightsRes = pd.DataFrame.from_dict(curr_ETF_weights_dct)\n",
    "curr_ETF_weightsRes.head(5000)"
   ]
  },
  {
   "cell_type": "code",
   "execution_count": null,
   "metadata": {},
   "outputs": [],
   "source": [
    "print(curr_ETF_weightsRes.ew_based)"
   ]
  },
  {
   "cell_type": "code",
   "execution_count": null,
   "metadata": {},
   "outputs": [],
   "source": [
    "pf.create_simple_tear_sheet(rets_dct['ew_based'])"
   ]
  },
  {
   "cell_type": "code",
   "execution_count": null,
   "metadata": {},
   "outputs": [],
   "source": [
    "pv_df = pd.DataFrame.from_dict(pv_dct)"
   ]
  },
  {
   "cell_type": "code",
   "execution_count": null,
   "metadata": {},
   "outputs": [],
   "source": [
    "cagrs = cpa.cagr(pv_df)\n",
    "print(cagrs)"
   ]
  },
  {
   "cell_type": "code",
   "execution_count": null,
   "metadata": {},
   "outputs": [],
   "source": [
    "tot_ret = cpa.total_return(pv_df)\n",
    "print(tot_ret)"
   ]
  },
  {
   "cell_type": "code",
   "execution_count": null,
   "metadata": {},
   "outputs": [],
   "source": [
    "annual_mr = cpa.annual_mean_ret(pv_df)\n",
    "annual_sd = cpa.annual_stand_dev(pv_df)\n",
    "sharpe_ratios = cpa.sharpe_ratio(pv_df)\n",
    "print(annual_mr)\n",
    "print(annual_sd)\n",
    "print(sharpe_ratios)"
   ]
  },
  {
   "cell_type": "code",
   "execution_count": null,
   "metadata": {},
   "outputs": [],
   "source": [
    "mdds = cpa.max_drawdown(pv_df)\n",
    "print(mdds)"
   ]
  },
  {
   "cell_type": "code",
   "execution_count": null,
   "metadata": {},
   "outputs": [],
   "source": [
    "mar_ratios = cpa.mar_ratio(pv_df)\n",
    "print(mar_ratios)"
   ]
  },
  {
   "cell_type": "code",
   "execution_count": null,
   "metadata": {},
   "outputs": [],
   "source": [
    "pv_df.ew_based.to_csv('ew_pv.csv')"
   ]
  },
  {
   "cell_type": "code",
   "execution_count": null,
   "metadata": {},
   "outputs": [],
   "source": [
    "weights_df = pd.DataFrame.from_dict(weights_dct['ew_based'])\n",
    "weights_df.head(5000)"
   ]
  }
 ],
 "metadata": {
  "kernelspec": {
   "display_name": "Python 3.10.7 64-bit",
   "language": "python",
   "name": "python3"
  },
  "language_info": {
   "codemirror_mode": {
    "name": "ipython",
    "version": 3
   },
   "file_extension": ".py",
   "mimetype": "text/x-python",
   "name": "python",
   "nbconvert_exporter": "python",
   "pygments_lexer": "ipython3",
   "version": "3.10.7"
  },
  "orig_nbformat": 4,
  "vscode": {
   "interpreter": {
    "hash": "7b615d01120494f282c426459c34041206581ea59e4730aabec3fd78664a65ed"
   }
  }
 },
 "nbformat": 4,
 "nbformat_minor": 2
}
