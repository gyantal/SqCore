{
 "cells": [
  {
   "cell_type": "code",
   "execution_count": null,
   "metadata": {},
   "outputs": [],
   "source": [
    "# %pip install yfinance\n",
    "# %pip install scipy\n",
    "# %pip install matplotlib\n",
    "# %pip install pyfolio\n",
    "# %pip uninstall pyfolio\n",
    "# %pip install git+https://github.com/quantopian/pyfolio\n",
    "# %pip install panda"
   ]
  },
  {
   "cell_type": "code",
   "execution_count": 1,
   "metadata": {},
   "outputs": [],
   "source": [
    "# Ignore printing all warnings\n",
    "import warnings\n",
    "warnings.filterwarnings('ignore')\n",
    "\n",
    "# Importing necessary libraries\n",
    "import pandas as pd\n",
    "import numpy as np\n",
    "import matplotlib.pyplot as plt\n",
    "import yfinance as yf\n",
    "import pyfolio as pf\n",
    "import datetime as dt\n",
    "import pandas_datareader.data as web\n",
    "import os\n",
    "# import warnings\n",
    "\n",
    "# print all outputs\n",
    "from IPython.core.interactiveshell import InteractiveShell\n",
    "InteractiveShell.ast_node_interactivity = \"all\"\n",
    "from scipy.stats import rankdata"
   ]
  },
  {
   "cell_type": "code",
   "execution_count": 2,
   "metadata": {},
   "outputs": [],
   "source": [
    "ticker_list = ['AAPL', 'ADBE', 'AMZN', 'CRM', 'CRWD', 'ETSY', 'META', 'GOOGL', 'MA', 'MSFT', 'NOW', 'NVDA', 'PYPL', 'QCOM', 'SE', 'SHOP', 'SQ', 'V']\n",
    "perc_ch_lb_list = [60, 120, 180, 250]\n",
    "vol_lb = 20\n",
    "perc_ch_up_thres = 0.75\n",
    "perc_ch_low_thres = 0.25\n",
    "rebalance_unit = 'Day'\n",
    "rebalance_freq = 1\n",
    "rebalance_shift = 0\n",
    "start_date = '2006-01-01'\n",
    "end_date = '2023-03-31'"
   ]
  },
  {
   "cell_type": "code",
   "execution_count": 3,
   "metadata": {},
   "outputs": [
    {
     "name": "stdout",
     "output_type": "stream",
     "text": [
      "[*********************100%***********************]  18 of 18 completed\n"
     ]
    }
   ],
   "source": [
    "adj_close_price = yf.download(ticker_list,start = pd.to_datetime(start_date) + pd.DateOffset(years= -2),end = pd.to_datetime(end_date) + pd.DateOffset(days= 1) )['Adj Close']"
   ]
  },
  {
   "cell_type": "code",
   "execution_count": 4,
   "metadata": {},
   "outputs": [],
   "source": [
    "adj_close_price.to_csv(\"D:\\Temp\\ProgTemp\\gchPrices.csv\")"
   ]
  },
  {
   "cell_type": "code",
   "execution_count": 5,
   "metadata": {},
   "outputs": [],
   "source": [
    "df = adj_close_price.copy()\n",
    "df['Year'], df['Month'], df['Week'] = df.index.year, df.index.month, df.index.week\n",
    "df['Monthly_Rb'] = df.Month != df.Month.shift(-1)\n",
    "df['Weekly_Rb'] = df.Week != df.Week.shift(-1)\n",
    "df['Daily_Rb'] = True\n",
    "df['RebalanceUnit'] = df.Monthly_Rb if rebalance_unit == 'Month' else df.Weekly_Rb if rebalance_unit == 'Week' else df.Daily_Rb\n",
    "df.RebalanceUnit = df.RebalanceUnit.shift(rebalance_shift).fillna(False) \n",
    "df.RebalanceUnit[0] = True\n",
    "df['NoPeriod'] = df.RebalanceUnit.shift(1).cumsum()\n",
    "df.NoPeriod[0] = 0\n",
    "df['NoData'] = np.arange(len(df)) + 1\n",
    "df['Rebalance'] = np.where((df.RebalanceUnit == True) & (df.NoPeriod.mod(rebalance_freq) == 0), True, False)"
   ]
  },
  {
   "cell_type": "code",
   "execution_count": 6,
   "metadata": {},
   "outputs": [],
   "source": [
    "dailyret = adj_close_price/adj_close_price.shift(1) - 1"
   ]
  },
  {
   "cell_type": "code",
   "execution_count": 7,
   "metadata": {},
   "outputs": [],
   "source": [
    "def scores(acp_p, lb_p, l_th_p, u_th_p):\n",
    "\n",
    "    lowerPerc = acp_p.rolling(lb_p).quantile(l_th_p).to_numpy()\n",
    "    upperPerc = acp_p.rolling(lb_p).quantile(u_th_p).to_numpy()\n",
    "    prices = acp_p.to_numpy()\n",
    "    no_rows, no_cols = acp_p.shape\n",
    "    score = np.zeros((no_rows, no_cols))\n",
    "    for i in range(1, no_rows):\n",
    "        for j in range(no_cols):\n",
    "            if prices[i,j] > upperPerc[i,j]:\n",
    "                score[i,j] = 1\n",
    "            elif prices[i,j] < lowerPerc[i,j]:\n",
    "                score[i,j] = -1\n",
    "            else:\n",
    "                score[i,j] = score[i-1,j]\n",
    "    score_df = pd.DataFrame(score, index = acp_p.index, columns = acp_p.columns) \n",
    "    return score_df"
   ]
  },
  {
   "cell_type": "code",
   "execution_count": 8,
   "metadata": {},
   "outputs": [],
   "source": [
    "scores1 = scores(adj_close_price, perc_ch_lb_list[0], perc_ch_low_thres, perc_ch_up_thres)\n",
    "scores2 = scores(adj_close_price, perc_ch_lb_list[1], perc_ch_low_thres, perc_ch_up_thres)\n",
    "scores3 = scores(adj_close_price, perc_ch_lb_list[2], perc_ch_low_thres, perc_ch_up_thres)\n",
    "scores4 = scores(adj_close_price, perc_ch_lb_list[3], perc_ch_low_thres, perc_ch_up_thres)\n",
    "avgscores = (scores1 + scores2 + scores3 + scores4)/4\n",
    "volatility = dailyret.rolling(vol_lb).std(perc_ch_low_thres)\n",
    "rel_score_vol = avgscores / volatility\n",
    "abs_score_vol = rel_score_vol.abs()\n",
    "sum_abs_score_vol = abs_score_vol.sum(axis = 1)\n",
    "weights = (rel_score_vol.divide(sum_abs_score_vol, axis = 0)).where(rel_score_vol > 0, 0)\n",
    "cash_weight = 1 - weights.sum(axis = 1)\n"
   ]
  },
  {
   "cell_type": "code",
   "execution_count": null,
   "metadata": {},
   "outputs": [],
   "source": [
    "avgscores.to_csv(\"D:\\Temp\\ProgTemp\\gchAvgScores.csv\")"
   ]
  },
  {
   "cell_type": "code",
   "execution_count": 9,
   "metadata": {},
   "outputs": [],
   "source": [
    "def positions_pv(acp_p, rebalance_p, weights_p, cash_weight_p, start_date_p):\n",
    "    adjclose = acp_p.fillna(1).to_numpy()\n",
    "    rebalanceday = rebalance_p.to_numpy()\n",
    "    weights = weights_p.fillna(0).to_numpy()\n",
    "    cash_weight = cash_weight_p.to_numpy()\n",
    "    no_rows, no_cols = acp_p.shape\n",
    "\n",
    "    positions = np.zeros((no_rows, no_cols))\n",
    "    pv = np.ones((no_rows,1))\n",
    "    cash = np.ones((no_rows,1))\n",
    "    start_ind = np.argmax(acp_p.index >= start_date_p)\n",
    "    for i in range(start_ind, no_rows):\n",
    "        pv[i] = 0\n",
    "        for j in range(no_cols):\n",
    "            if rebalanceday[i-1] == True:\n",
    "                positions[i,j] = pv[i-1] * weights[i-1,j] / adjclose[i-1,j]                \n",
    "            else:\n",
    "                positions[i,j] = positions[i-1,j]\n",
    "            pv[i] += positions[i,j] * adjclose[i,j]\n",
    "        if rebalanceday[i-1] == True:\n",
    "            cash[i] = pv[i-1] * cash_weight[i-1]\n",
    "        else:\n",
    "            cash[i] = cash[i-1]\n",
    "        pv[i] += cash[i] \n",
    "    \n",
    "    positions_df = pd.DataFrame(positions, index = acp_p.index, columns = acp_p.columns)\n",
    "    positions_df_sel = positions_df.iloc[start_ind-1:no_rows,:]\n",
    "    pv_df =  pd.DataFrame(pv, index = acp_p.index)\n",
    "    pv_df_sel = pv_df.iloc[start_ind-1:no_rows,0]\n",
    "    cash_df =  pd.DataFrame(cash, index = acp_p.index)\n",
    "    cash_df_sel = cash_df.iloc[start_ind-1:no_rows,0]\n",
    "    return positions_df_sel, cash_df_sel, pv_df_sel"
   ]
  },
  {
   "cell_type": "code",
   "execution_count": 10,
   "metadata": {},
   "outputs": [],
   "source": [
    "def positions_pv_ew(acp_p, rebalance_p, start_date_p):\n",
    "    adjclose = acp_p.fillna(0).to_numpy()\n",
    "    rebalanceday = rebalance_p.to_numpy()\n",
    "    no_rows, no_cols = acp_p.shape\n",
    "    no_ava_etfs = (acp_p > 0).sum(1)\n",
    "\n",
    "    positions = np.zeros((no_rows, no_cols))\n",
    "    pv = np.ones((no_rows,1))\n",
    "    cash = np.ones((no_rows,1))\n",
    "    start_ind = np.argmax(acp_p.index >= start_date_p)\n",
    "    for i in range(start_ind, no_rows):\n",
    "        pv[i] = 0\n",
    "        for j in range(no_cols):\n",
    "            if rebalanceday[i-1] == True:\n",
    "                positions[i,j] = pv[i-1] * (1 / no_ava_etfs[i-1]) / adjclose[i-1,j] if adjclose[i-1, j] > 0 else 0                \n",
    "            else:\n",
    "                positions[i,j] = positions[i-1,j]\n",
    "            pv[i] += positions[i,j] * adjclose[i,j]\n",
    "        if rebalanceday[i-1] == True:\n",
    "            cash[i] = 0\n",
    "        else:\n",
    "            cash[i] = 0\n",
    "        pv[i] += cash[i] \n",
    "    \n",
    "    positions_df = pd.DataFrame(positions, index = acp_p.index, columns = acp_p.columns)\n",
    "    positions_df_sel = positions_df.iloc[start_ind-1:no_rows,:]\n",
    "    pv_df =  pd.DataFrame(pv, index = acp_p.index)\n",
    "    pv_df_sel = pv_df.iloc[start_ind-1:no_rows,0]\n",
    "    cash_df =  pd.DataFrame(cash, index = acp_p.index)\n",
    "    cash_df_sel = cash_df.iloc[start_ind-1:no_rows,0]\n",
    "    return positions_df_sel, cash_df_sel, pv_df_sel"
   ]
  },
  {
   "cell_type": "code",
   "execution_count": 11,
   "metadata": {},
   "outputs": [],
   "source": [
    "pos, cash, pv = positions_pv(adj_close_price, df.Rebalance, weights, cash_weight, start_date)\n",
    "pos_ew, cash_ew, pv_ew = positions_pv_ew(adj_close_price, df.Rebalance, start_date)\n",
    "strat_rets = pv / pv.shift(1) - 1\n",
    "strat_rets_ew = pv_ew / pv_ew.shift(1) - 1\n",
    "weights2 = weights.copy()\n",
    "weights2['cash'] = cash_weight\n",
    "# oos_date = pd.to_datetime('2018-01-01')\n",
    "# type(oos_date)\n",
    "# type(strat_rets.index)\n",
    "# print(oos_date)\n",
    "# print(strat_rets.index[300])\n",
    "# print(oos_date > strat_rets.index[300])\n",
    "# pf.create_full_tear_sheet(strat_rets, positions = weights2, benchmark_rets = strat_rets_ew)\n",
    "# pf.create_full_tear_sheet(strat_rets, positions = weights2, live_start_date=oos_date, benchmark_rets = strat_rets_ew)\n",
    "# pf.create_returns_tear_sheet(strat_rets)"
   ]
  },
  {
   "cell_type": "code",
   "execution_count": 12,
   "metadata": {},
   "outputs": [],
   "source": [
    "pv.to_csv(\"D:\\Temp\\ProgTemp\\gchPv.csv\")"
   ]
  },
  {
   "cell_type": "code",
   "execution_count": 13,
   "metadata": {},
   "outputs": [],
   "source": [
    "cash.to_csv(\"D:\\Temp\\ProgTemp\\gchCash.csv\")"
   ]
  },
  {
   "cell_type": "code",
   "execution_count": 14,
   "metadata": {},
   "outputs": [],
   "source": [
    "pv_ew.to_csv(\"D:\\Temp\\ProgTemp\\gchPvEw.csv\")"
   ]
  }
 ],
 "metadata": {
  "kernelspec": {
   "display_name": "Python 3.10.7 64-bit",
   "language": "python",
   "name": "python3"
  },
  "language_info": {
   "codemirror_mode": {
    "name": "ipython",
    "version": 3
   },
   "file_extension": ".py",
   "mimetype": "text/x-python",
   "name": "python",
   "nbconvert_exporter": "python",
   "pygments_lexer": "ipython3",
   "version": "3.10.7"
  },
  "orig_nbformat": 4,
  "vscode": {
   "interpreter": {
    "hash": "7b615d01120494f282c426459c34041206581ea59e4730aabec3fd78664a65ed"
   }
  }
 },
 "nbformat": 4,
 "nbformat_minor": 2
}
