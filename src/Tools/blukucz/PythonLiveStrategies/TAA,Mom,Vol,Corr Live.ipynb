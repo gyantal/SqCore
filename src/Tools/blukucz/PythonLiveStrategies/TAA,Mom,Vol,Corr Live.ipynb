{
 "cells": [
  {
   "cell_type": "code",
   "execution_count": null,
   "metadata": {},
   "outputs": [],
   "source": [
    "# !pip install yfinance\n",
    "# !pip install scipy"
   ]
  },
  {
   "cell_type": "code",
   "execution_count": null,
   "metadata": {},
   "outputs": [],
   "source": [
    "import pandas as pd\n",
    "import numpy as np\n",
    "from scipy.stats import rankdata\n",
    "tickers_list = ['VNQ', 'EEM', 'EFA', 'DBC', 'SPY', 'TLT']\n",
    "number_of_tickers = len(tickers_list)"
   ]
  },
  {
   "cell_type": "code",
   "execution_count": null,
   "metadata": {},
   "outputs": [],
   "source": [
    "import yfinance as yf\n",
    "start_date = '2022-04-30'\n",
    "adj_close_price = yf.download(tickers_list,start_date, auto_adjust=False)['Adj Close'] # 2025-02-27: yf API changed. The default auto_adjust=True gives only adjusted OHLC, not giving AdjClose, so impossible to reverse engineer the splits, dividindends and rawPrices. The auto_adjust=false gives OHLC (raw) + 'Adj Close'.\n",
    "print(adj_close_price)"
   ]
  },
  {
   "cell_type": "code",
   "execution_count": null,
   "metadata": {},
   "outputs": [],
   "source": [
    "pct_changes = adj_close_price.pct_change()\n",
    "print(pct_changes)"
   ]
  },
  {
   "cell_type": "code",
   "execution_count": null,
   "metadata": {},
   "outputs": [],
   "source": [
    "total_return = np.divide(adj_close_price.iloc[-1],adj_close_price.iloc[0]) - 1\n",
    "print(total_return)"
   ]
  },
  {
   "cell_type": "code",
   "execution_count": null,
   "metadata": {},
   "outputs": [],
   "source": [
    "total_return_order = number_of_tickers - rankdata(total_return,method='average') + 1\n",
    "print(total_return_order)"
   ]
  },
  {
   "cell_type": "code",
   "execution_count": null,
   "metadata": {},
   "outputs": [],
   "source": [
    "total_sd = np.std(pct_changes)\n",
    "print(total_sd)"
   ]
  },
  {
   "cell_type": "code",
   "execution_count": null,
   "metadata": {},
   "outputs": [],
   "source": [
    "total_sd_order = rankdata(total_sd,method='average')\n",
    "print(total_sd_order)"
   ]
  },
  {
   "cell_type": "code",
   "execution_count": null,
   "metadata": {},
   "outputs": [],
   "source": [
    "corr_mtx = pct_changes.corr()\n",
    "total_corr = np.average(corr_mtx, axis=1)\n",
    "print(corr_mtx)\n",
    "print(total_corr)"
   ]
  },
  {
   "cell_type": "code",
   "execution_count": null,
   "metadata": {},
   "outputs": [],
   "source": [
    "total_corr_order = rankdata(total_corr,method='average')\n",
    "print(total_corr_order)"
   ]
  },
  {
   "cell_type": "code",
   "execution_count": null,
   "metadata": {},
   "outputs": [],
   "source": [
    "sub_strat_weigths = [0.5, 0.25, 0.25]\n",
    "print(sub_strat_weigths)"
   ]
  },
  {
   "cell_type": "code",
   "execution_count": null,
   "metadata": {},
   "outputs": [],
   "source": [
    "rank_mtx = np.asmatrix([total_return_order, total_sd_order, total_corr_order])\n",
    "print(rank_mtx)"
   ]
  },
  {
   "cell_type": "code",
   "execution_count": null,
   "metadata": {},
   "outputs": [],
   "source": [
    "total_score = np.matmul(sub_strat_weigths,rank_mtx)\n",
    "print(total_score)"
   ]
  },
  {
   "cell_type": "code",
   "execution_count": null,
   "metadata": {},
   "outputs": [],
   "source": [
    "total_score_order = rankdata(total_score,method='min')\n",
    "print(total_score_order)"
   ]
  },
  {
   "cell_type": "code",
   "execution_count": null,
   "metadata": {},
   "outputs": [],
   "source": [
    "number_of_selected_tickers = 4\n",
    "selected_tickers = (total_score_order < number_of_selected_tickers).astype(int)\n",
    "print(selected_tickers)"
   ]
  },
  {
   "cell_type": "code",
   "execution_count": null,
   "metadata": {},
   "outputs": [],
   "source": [
    "absolute_momentum_filter = (total_return > 0).astype(int)\n",
    "print(absolute_momentum_filter)\n"
   ]
  },
  {
   "cell_type": "code",
   "execution_count": null,
   "metadata": {},
   "outputs": [],
   "source": [
    "final_signals = np.multiply(selected_tickers, absolute_momentum_filter)\n",
    "print(final_signals)"
   ]
  }
 ],
 "metadata": {
  "kernelspec": {
   "display_name": "Python 3",
   "language": "python",
   "name": "python3"
  },
  "language_info": {
   "codemirror_mode": {
    "name": "ipython",
    "version": 3
   },
   "file_extension": ".py",
   "mimetype": "text/x-python",
   "name": "python",
   "nbconvert_exporter": "python",
   "pygments_lexer": "ipython3",
   "version": "3.11.4"
  },
  "orig_nbformat": 4
 },
 "nbformat": 4,
 "nbformat_minor": 2
}
